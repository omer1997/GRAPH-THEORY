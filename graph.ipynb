{
 "cells": [
  {
   "cell_type": "code",
   "execution_count": 9,
   "id": "e6fe0737",
   "metadata": {},
   "outputs": [],
   "source": [
    "from collections import defaultdict\n",
    "from math import sqrt\n"
   ]
  },
  {
   "cell_type": "code",
   "execution_count": 4,
   "id": "062fa226",
   "metadata": {},
   "outputs": [],
   "source": [
    "def distance_between_coords(x1, y1, x2, y2):\n",
    "    distance = sqrt(((x2 - x1) ** 2) + ((y2 - y1) ** 2))\n",
    "    return distance"
   ]
  },
  {
   "cell_type": "code",
   "execution_count": 5,
   "id": "96ce1b3c",
   "metadata": {},
   "outputs": [],
   "source": [
    "# Adding key to coordinates to use as keys for edge detection\n",
    "def name_coords(coords):\n",
    "    coord_count = 0\n",
    "    for coord in coords:\n",
    "        coord_count += 1\n",
    "        coord.append(coord_count)\n",
    "    return coords"
   ]
  },
  {
   "cell_type": "code",
   "execution_count": 6,
   "id": "414f10d6",
   "metadata": {},
   "outputs": [],
   "source": [
    "# Creates a weighted and undirected graph\n",
    "# Returns named coordinates and their connected edges as a dictonary\n",
    "def get_edges(coords):\n",
    "    coords = name_coords(coords)\n",
    "    graph = defaultdict(list)\n",
    "    edges = {}\n",
    "    for current in coords:\n",
    "        for comparer in coords:\n",
    "            if comparer == current:\n",
    "                continue\n",
    "            else:\n",
    "                weight = distance_between_coords(current[0], current[1],\n",
    "                                                 comparer[0], comparer[1])\n",
    "                graph[current[2]].append(comparer[2])\n",
    "                edges[current[2], comparer[2]] = weight\n",
    "    return coords, edges"
   ]
  },
  {
   "cell_type": "code",
   "execution_count": 7,
   "id": "04455215",
   "metadata": {},
   "outputs": [],
   "source": [
    "def driver():\n",
    "#YMCA\n",
    "#     coords = [[41.93162315, -88.76493668], [41.930798, -88.754072],\n",
    "#               [41.967509, -88.739228], [41.965511, -88.719419],\n",
    "#               [41.930866, -88.773553],\n",
    "#               [41.965124, -88.773281],[41.9651555,-88.72389508],\n",
    "#                [41.935362, -88.751569]]\n",
    "\n",
    "\n",
    "    coords = [[41.93132224614765, -88.77635199158998], [41.850565861389384, -88.79339643694095],\n",
    "            [41.84911465776049, -88.84811209853588], [41.76796129205276, -88.84738674709705],\n",
    "            [41.76789079895219, -88.86235731008149],\n",
    "            [41.761120907353906, -88.86240215066404],[41.740609997251205, -88.86860087946512],\n",
    "            [41.74629838281308, -88.86278587090564], [41.907600524807364, -88.84815516122622],\n",
    "         [41.84889117640624, -88.88685212084559], [41.76110411030452, -88.87711612108458]]\n",
    "    \n",
    "    coords, edges = get_edges(coords)\n",
    "    print(edges)\n",
    "\n",
    "\n"
   ]
  },
  {
   "cell_type": "code",
   "execution_count": 10,
   "id": "2a4d3c65",
   "metadata": {},
   "outputs": [
    {
     "name": "stdout",
     "output_type": "stream",
     "text": [
      "{(1, 2): 0.08253548810389187, (1, 3): 0.1091219525912206, (1, 4): 0.17813685136080765, (1, 5): 0.1846801362930805, (1, 6): 0.19071739722388942, (1, 7): 0.21185140828736743, (1, 8): 0.2042171527977136, (1, 9): 0.07562020386878712, (1, 10): 0.1378592028999891, (1, 11): 0.19780703618101103, (2, 1): 0.08253548810389187, (2, 3): 0.05473490308517051, (2, 4): 0.09868367882299725, (2, 5): 0.10766042900388258, (2, 6): 0.11296985584146525, (2, 7): 0.13321411424374124, (2, 8): 0.12524616015910323, (2, 9): 0.07906624258526422, (2, 10): 0.0934706875115194, (2, 11): 0.12252506037655773, (3, 1): 0.1091219525912206, (3, 2): 0.05473490308517051, (3, 4): 0.081156607250439, (3, 5): 0.08246357554514615, (3, 6): 0.08914654059716184, (3, 7): 0.11042215129312215, (3, 8): 0.10385810507428159, (3, 9): 0.05848588290023651, (3, 10): 0.03874066690794762, (3, 11): 0.09266655161116412, (4, 1): 0.17813685136080765, (4, 2): 0.09868367882299725, (4, 3): 0.081156607250439, (4, 5): 0.014970728951806463, (4, 6): 0.016500097184802894, (4, 7): 0.03461405407420052, (4, 8): 0.02657846216015831, (4, 9): 0.13964134697348182, (4, 10): 0.09003977957869387, (4, 11): 0.03050994295666796, (5, 1): 0.1846801362930805, (5, 2): 0.10766042900388258, (5, 3): 0.08246357554514615, (5, 4): 0.014970728951806463, (5, 6): 0.006770040098132944, (5, 7): 0.02798614478802841, (5, 8): 0.021596668703862, (5, 9): 0.14042972808716836, (5, 10): 0.08462302820194989, (5, 11): 0.016244434278401467, (6, 1): 0.19071739722388942, (6, 2): 0.11296985584146525, (6, 3): 0.08914654059716184, (6, 4): 0.016500097184802894, (6, 5): 0.006770040098132944, (6, 7): 0.02142712467855679, (6, 8): 0.014827490515498231, (6, 9): 0.14717083623243069, (6, 10): 0.09111213514893586, (6, 11): 0.014713980008057705, (7, 1): 0.21185140828736743, (7, 2): 0.13321411424374124, (7, 3): 0.11042215129312215, (7, 4): 0.03461405407420052, (7, 5): 0.02798614478802841, (7, 6): 0.02142712467855679, (7, 8): 0.008134620756210945, (7, 9): 0.1682375216406522, (7, 10): 0.10980856784027847, (7, 11): 0.022192746780873757, (8, 1): 0.2042171527977136, (8, 2): 0.12524616015910323, (8, 3): 0.10385810507428159, (8, 4): 0.02657846216015831, (8, 5): 0.021596668703862, (8, 6): 0.014827490515498231, (8, 7): 0.008134620756210945, (8, 9): 0.16196431297562963, (8, 10): 0.10537772859300461, (8, 11): 0.02060499057854569, (9, 1): 0.07562020386878712, (9, 2): 0.07906624258526422, (9, 3): 0.05848588290023651, (9, 4): 0.13964134697348182, (9, 5): 0.14042972808716836, (9, 6): 0.14717083623243069, (9, 7): 0.1682375216406522, (9, 8): 0.16196431297562963, (9, 10): 0.07031530611088754, (9, 11): 0.1493316331461836, (10, 1): 0.1378592028999891, (10, 2): 0.0934706875115194, (10, 3): 0.03874066690794762, (10, 4): 0.09003977957869387, (10, 5): 0.08462302820194989, (10, 6): 0.09111213514893586, (10, 7): 0.10980856784027847, (10, 8): 0.10537772859300461, (10, 9): 0.07031530611088754, (10, 11): 0.0883253002604224, (11, 1): 0.19780703618101103, (11, 2): 0.12252506037655773, (11, 3): 0.09266655161116412, (11, 4): 0.03050994295666796, (11, 5): 0.016244434278401467, (11, 6): 0.014713980008057705, (11, 7): 0.022192746780873757, (11, 8): 0.02060499057854569, (11, 9): 0.1493316331461836, (11, 10): 0.0883253002604224}\n"
     ]
    }
   ],
   "source": [
    "driver()"
   ]
  },
  {
   "cell_type": "code",
   "execution_count": 11,
   "id": "5fa7228f",
   "metadata": {},
   "outputs": [],
   "source": [
    "import sys\n",
    " \n",
    "class Graph(object):\n",
    "    def __init__(self, nodes, init_graph):\n",
    "        self.nodes = nodes\n",
    "        self.graph = self.construct_graph(nodes, init_graph)\n",
    "        \n",
    "    def construct_graph(self, nodes, init_graph):\n",
    "        '''\n",
    "        This method makes sure that the graph is symmetrical. In other words, if there's a path from node A to B with a value V, there needs to be a path from node B to node A with a value V.\n",
    "        '''\n",
    "        graph = {}\n",
    "        for node in nodes:\n",
    "            graph[node] = {}\n",
    "        \n",
    "        graph.update(init_graph)\n",
    "        \n",
    "        for node, edges in graph.items():\n",
    "            for adjacent_node, value in edges.items():\n",
    "                if graph[adjacent_node].get(node, False) == False:\n",
    "                    graph[adjacent_node][node] = value\n",
    "                    \n",
    "        return graph\n",
    "    \n",
    "    def get_nodes(self):\n",
    "        \"Returns the nodes of the graph.\"\n",
    "        return self.nodes\n",
    "    \n",
    "    def get_outgoing_edges(self, node):\n",
    "        \"Returns the neighbors of a node.\"\n",
    "        connections = []\n",
    "        for out_node in self.nodes:\n",
    "            if self.graph[node].get(out_node, False) != False:\n",
    "                connections.append(out_node)\n",
    "        return connections\n",
    "    \n",
    "    def value(self, node1, node2):\n",
    "        \"Returns the value of an edge between two nodes.\"\n",
    "        return self.graph[node1][node2]"
   ]
  },
  {
   "cell_type": "code",
   "execution_count": 13,
   "id": "8b4bc4c7",
   "metadata": {},
   "outputs": [],
   "source": [
    "def dijkstra_algorithm(graph, start_node):\n",
    "    unvisited_nodes = list(graph.get_nodes())\n",
    " \n",
    "    # We'll use this dict to save the cost of visiting each node and update it as we move along the graph   \n",
    "    shortest_path = {}\n",
    " \n",
    "    # We'll use this dict to save the shortest known path to a node found so far\n",
    "    previous_nodes = {}\n",
    " \n",
    "    # We'll use max_value to initialize the \"infinity\" value of the unvisited nodes   \n",
    "    max_value = sys.maxsize\n",
    "    for node in unvisited_nodes:\n",
    "        shortest_path[node] = max_value\n",
    "    # However, we initialize the starting node's value with 0   \n",
    "    shortest_path[start_node] = 0\n",
    "    \n",
    "    # The algorithm executes until we visit all nodes\n",
    "    while unvisited_nodes:\n",
    "        # The code block below finds the node with the lowest score\n",
    "        current_min_node = None\n",
    "        for node in unvisited_nodes: # Iterate over the nodes\n",
    "            if current_min_node == None:\n",
    "                current_min_node = node\n",
    "            elif shortest_path[node] < shortest_path[current_min_node]:\n",
    "                current_min_node = node\n",
    "                \n",
    "        # The code block below retrieves the current node's neighbors and updates their distances\n",
    "        neighbors = graph.get_outgoing_edges(current_min_node)\n",
    "        for neighbor in neighbors:\n",
    "            tentative_value = shortest_path[current_min_node] + graph.value(current_min_node, neighbor)\n",
    "            if tentative_value < shortest_path[neighbor]:\n",
    "                shortest_path[neighbor] = tentative_value\n",
    "                # We also update the best path to the current node\n",
    "                previous_nodes[neighbor] = current_min_node\n",
    " \n",
    "        # After visiting its neighbors, we mark the node as \"visited\"\n",
    "        unvisited_nodes.remove(current_min_node)\n",
    "    \n",
    "    return previous_nodes, shortest_path"
   ]
  },
  {
   "cell_type": "code",
   "execution_count": 15,
   "id": "af03e884",
   "metadata": {
    "scrolled": true
   },
   "outputs": [],
   "source": [
    "nodes = [\"1\", \"2\", \"3\", \"4\", \"5\", \"6\", \"7\", \"8\",\"9\",\"10\",\"11\"]\n",
    "\n",
    "init_graph = {}\n",
    "for node in nodes:\n",
    "    init_graph[node] = {}\n",
    "\n",
    "#To YMCA\n",
    "# init_graph[\"1\"][\"2\"] = 0.010895969164105951\n",
    "# init_graph[\"2\"][\"3\"] = 0.039598508267353505\n",
    "# init_graph[\"3\"][\"7\"] = 0.015512491675296234\n",
    "# init_graph[\"1\"][\"5\"] = 0.008649522903890388\n",
    "# init_graph[\"5\"][\"6\"] = 0.03425907978916085\n",
    "# init_graph[\"6\"][\"7\"] = 0.049385930045870205\n",
    "# init_graph[\"1\"][\"2\"] = 0.010895969164105951\n",
    "# init_graph[\"2\"][\"4\"] = 0.0490491873327089\n",
    "# init_graph[\"4\"][\"8\"] = 0.04407476263124041\n",
    "# init_graph[\"8\"][\"7\"] = 0.04066323266067907\n",
    "\n",
    "\n",
    "#To Shabona Lake\n",
    "init_graph[\"1\"][\"2\"] = 0.08253548810389187\n",
    "init_graph[\"2\"][\"3\"] = 0.0547349030851705\n",
    "init_graph[\"3\"][\"4\"] = 0.081156607250439\n",
    "init_graph[\"4\"][\"5\"] = 0.014970728951806463\n",
    "init_graph[\"5\"][\"6\"] = 0.006770040098132944\n",
    "init_graph[\"6\"][\"7\"] = 0.02142712467855679\n",
    "init_graph[\"7\"][\"8\"] = 0.008134620756210945\n",
    "init_graph[\"6\"][\"11\"] = 0.014713980008057705\n",
    "init_graph[\"11\"][\"10\"] = 0.0883253002604224\n",
    "init_graph[\"10\"][\"3\"] = 0.03874066690794762\n",
    "init_graph[\"3\"][\"9\"] = 0.05848588290023651\n",
    "init_graph[\"9\"][\"1\"] = 0.07562020386878712\n",
    "\n",
    "#Ellwood House Museum\n",
    "\n",
    "\n",
    "\t\n",
    "graph = Graph(nodes, init_graph)\n",
    "\n",
    "previous_nodes, shortest_path = dijkstra_algorithm(graph, \"1\")\n"
   ]
  },
  {
   "cell_type": "code",
   "execution_count": 16,
   "id": "08419f7a",
   "metadata": {},
   "outputs": [],
   "source": [
    "def print_result(previous_nodes, shortest_path, start_node, target_node):\n",
    "    path = []\n",
    "    node = target_node\n",
    "    \n",
    "    while node != start_node:\n",
    "        path.append(node)\n",
    "        node = previous_nodes[node]\n",
    " \n",
    "    # Add the start node manually\n",
    "    path.append(start_node)\n",
    "    \n",
    "    print(\"We found the following best path with a value of {}.\".format(shortest_path[target_node]))\n",
    "    print(\" -> \".join(reversed(path)))\n"
   ]
  },
  {
   "cell_type": "code",
   "execution_count": 17,
   "id": "9ddba916",
   "metadata": {},
   "outputs": [
    {
     "name": "stdout",
     "output_type": "stream",
     "text": [
      "We found the following best path with a value of 0.25843058774795885.\n",
      "1 -> 9 -> 3 -> 4 -> 5 -> 6 -> 7\n"
     ]
    }
   ],
   "source": [
    "print_result(previous_nodes, shortest_path, start_node=\"1\", target_node=\"7\")\n"
   ]
  },
  {
   "cell_type": "code",
   "execution_count": null,
   "id": "5920be11",
   "metadata": {},
   "outputs": [],
   "source": []
  }
 ],
 "metadata": {
  "kernelspec": {
   "display_name": "Python 3",
   "language": "python",
   "name": "python3"
  },
  "language_info": {
   "codemirror_mode": {
    "name": "ipython",
    "version": 3
   },
   "file_extension": ".py",
   "mimetype": "text/x-python",
   "name": "python",
   "nbconvert_exporter": "python",
   "pygments_lexer": "ipython3",
   "version": "3.8.8"
  }
 },
 "nbformat": 4,
 "nbformat_minor": 5
}
